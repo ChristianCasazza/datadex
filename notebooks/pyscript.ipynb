{
 "cells": [
  {
   "cell_type": "raw",
   "metadata": {},
   "source": [
    "---\n",
    "title: \"PyScript\"\n",
    "date: 2023-05-15\n",
    "author: \"David Gasquez\"\n",
    "format:\n",
    "  html:\n",
    "    include-in-header:\n",
    "      - text: |\n",
    "            <link rel=\"stylesheet\" href=\"https://pyscript.net/latest/pyscript.css\" />\n",
    "            <script defer src=\"https://pyscript.net/latest/pyscript.js\"></script>\n",
    "    include-before-body:\n",
    "        - text: |\n",
    "            <py-config>\n",
    "                [splashscreen]\n",
    "                    enabled = false\n",
    "            </py-config>\n",
    "---"
   ]
  },
  {
   "attachments": {},
   "cell_type": "markdown",
   "metadata": {},
   "source": [
    "So... this is the current date and time, computed by Python running in your browser!"
   ]
  },
  {
   "cell_type": "raw",
   "metadata": {},
   "source": [
    "<py-script>\n",
    "    from datetime import datetime;\n",
    "    now = datetime.now();\n",
    "    display(now.strftime(\\\"%m/%d/%Y, %H:%M:%S\\\"));\n",
    "</py-script>"
   ]
  },
  {
   "attachments": {},
   "cell_type": "markdown",
   "metadata": {},
   "source": [
    "## Jupyter REPL\n",
    "\n",
    "You can also have an entire Jupyter REPL running in your browser, with the ability to run arbitrary Python code!\n",
    "\n",
    "Go ahead and try this out:\n",
    "\n",
    "```python\n",
    "from matplotlib import pyplot as plt\n",
    "import numpy as np\n",
    "x, y, scale = np.random.randn(3, 100)\n",
    "fig, ax = plt.subplots()\n",
    "ax.scatter(x=x, y=y, c=scale, s=np.abs(scale) * 500)\n",
    "ax.set(title=\"Some random data!\")\n",
    "plt.show()\n",
    "```"
   ]
  },
  {
   "cell_type": "raw",
   "metadata": {},
   "source": [
    "<iframe\n",
    "  src=\"https://jupyterlite.github.io/demo/repl/index.html?kernel=python\"\n",
    "  width=\"100%\"\n",
    "  height=\"100%\"\n",
    "></iframe>"
   ]
  }
 ],
 "metadata": {
  "kernelspec": {
   "display_name": "Python 3",
   "language": "python",
   "name": "python3"
  },
  "language_info": {
   "codemirror_mode": {
    "name": "ipython",
    "version": 3
   },
   "file_extension": ".py",
   "mimetype": "text/x-python",
   "name": "python",
   "nbconvert_exporter": "python",
   "pygments_lexer": "ipython3",
   "version": "3.11.3"
  },
  "orig_nbformat": 4
 },
 "nbformat": 4,
 "nbformat_minor": 2
}
